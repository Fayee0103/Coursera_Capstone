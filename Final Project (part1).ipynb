{
    "nbformat_minor": 1, 
    "cells": [
        {
            "source": "## Coursera Final Project - Dating Pro", 
            "cell_type": "markdown", 
            "metadata": {
                "collapsed": true
            }
        }, 
        {
            "source": "## 1. Introduction", 
            "cell_type": "markdown", 
            "metadata": {}
        }, 
        {
            "source": "Toronto is a diverse and fully packed metropolis. It is lovely to wander around in the street with your beloved and to explore the hidden gems in the city, but sometimes it would also be nice to know the area better before jumping into a date. This project is aiming to cluster and visualize neighborhoods that have the desirable clustering of restaurant/bars/entertainment venue/coffee shops for your next dates.", 
            "cell_type": "markdown", 
            "metadata": {}
        }, 
        {
            "source": "## 2. Data", 
            "cell_type": "markdown", 
            "metadata": {}
        }, 
        {
            "source": "* Toronto FSA data with 'borough' and 'neighborhood' information\n\nDATA SOURCE: https://en.wikipedia.org/wiki/List_of_postal_codes_of_Canada:_M", 
            "cell_type": "markdown", 
            "metadata": {}
        }, 
        {
            "source": "* GEO data - contain information on boundaries\n\nDATA SOURCE: http://cocl.us/Geospatial_data", 
            "cell_type": "markdown", 
            "metadata": {}
        }, 
        {
            "source": "* Toronto Venue Data with information of location and category, which is the core data that is used to select certain type of dating venues\n\nDATA SOURCE: **Foursquare API**", 
            "cell_type": "markdown", 
            "metadata": {}
        }, 
        {
            "execution_count": null, 
            "cell_type": "code", 
            "metadata": {}, 
            "outputs": [], 
            "source": ""
        }
    ], 
    "metadata": {
        "kernelspec": {
            "display_name": "Python 3.6", 
            "name": "python3", 
            "language": "python"
        }, 
        "language_info": {
            "mimetype": "text/x-python", 
            "nbconvert_exporter": "python", 
            "version": "3.6.8", 
            "name": "python", 
            "file_extension": ".py", 
            "pygments_lexer": "ipython3", 
            "codemirror_mode": {
                "version": 3, 
                "name": "ipython"
            }
        }
    }, 
    "nbformat": 4
}